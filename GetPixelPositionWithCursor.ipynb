{
 "cells": [
  {
   "cell_type": "code",
   "execution_count": 30,
   "metadata": {
    "collapsed": true
   },
   "outputs": [],
   "source": [
    "import numpy as np\n",
    "import cv2"
   ]
  },
  {
   "cell_type": "markdown",
   "metadata": {},
   "source": [
    "** Define a callback function for mouse click.<br> **\n",
    "\n",
    "When mouse click detected, do following things:\n",
    "1. record the position in pointsArray\n",
    "2. draw the position in Image\n",
    "3. draw a line from last position to curretn position"
   ]
  },
  {
   "cell_type": "code",
   "execution_count": 31,
   "metadata": {
    "collapsed": true
   },
   "outputs": [],
   "source": [
    "pointsArray = []\n",
    "\n",
    "# mouse callback function\n",
    "def draw_circle(event,x,y,flags,param):\n",
    "    if event == cv2.EVENT_LBUTTONUP:\n",
    "        pointsArray.append((x,y))\n",
    "        cv2.circle(img,(x,y), 5,(0, 0, 255),-1)\n",
    "        \n",
    "        arrayLength = len(pointsArray)\n",
    "        if arrayLength > 1:\n",
    "            cv2.line(img,pointsArray[arrayLength-1], pointsArray[arrayLength-2], (255,0,0), 3)"
   ]
  },
  {
   "cell_type": "code",
   "execution_count": null,
   "metadata": {
    "collapsed": true
   },
   "outputs": [],
   "source": [
    "# load an image under the same directory\n",
    "img = cv2.imread('DS_Books.png',1)"
   ]
  },
  {
   "cell_type": "markdown",
   "metadata": {},
   "source": [
    "** Create a window, and keep detecting mouse click until 'ESC' is pressed **"
   ]
  },
  {
   "cell_type": "code",
   "execution_count": 33,
   "metadata": {
    "collapsed": true
   },
   "outputs": [],
   "source": [
    "cv2.namedWindow('MyImage', cv2.WINDOW_NORMAL)\n",
    "cv2.setMouseCallback('MyImage',draw_circle)\n",
    "\n",
    "while(1):\n",
    "    cv2.imshow('MyImage',img)\n",
    "    if cv2.waitKey(20) & 0xFF == 27: # press ESC\n",
    "        break\n",
    "\n",
    "cv2.destroyAllWindows()"
   ]
  },
  {
   "cell_type": "code",
   "execution_count": 34,
   "metadata": {},
   "outputs": [
    {
     "name": "stdout",
     "output_type": "stream",
     "text": [
      "[(7, 4), (966, 1052)]\n"
     ]
    }
   ],
   "source": [
    "print(pointsArray)"
   ]
  }
 ],
 "metadata": {
  "kernelspec": {
   "display_name": "Python 3",
   "language": "python",
   "name": "python3"
  },
  "language_info": {
   "codemirror_mode": {
    "name": "ipython",
    "version": 3
   },
   "file_extension": ".py",
   "mimetype": "text/x-python",
   "name": "python",
   "nbconvert_exporter": "python",
   "pygments_lexer": "ipython3",
   "version": "3.6.1"
  }
 },
 "nbformat": 4,
 "nbformat_minor": 2
}
